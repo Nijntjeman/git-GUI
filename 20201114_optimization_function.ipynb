{
  "nbformat": 4,
  "nbformat_minor": 0,
  "metadata": {
    "colab": {
      "name": "20201114-optimization function.ipynb",
      "provenance": [],
      "authorship_tag": "ABX9TyOdZYssTaH2xYiUAVeQ8pbH",
      "include_colab_link": true
    },
    "kernelspec": {
      "name": "python3",
      "display_name": "Python 3"
    }
  },
  "cells": [
    {
      "cell_type": "markdown",
      "metadata": {
        "id": "view-in-github",
        "colab_type": "text"
      },
      "source": [
        "<a href=\"https://colab.research.google.com/github/Nijntjeman/git-GUI/blob/master/20201114_optimization_function.ipynb\" target=\"_parent\"><img src=\"https://colab.research.google.com/assets/colab-badge.svg\" alt=\"Open In Colab\"/></a>"
      ]
    },
    {
      "cell_type": "code",
      "metadata": {
        "id": "12dP4Z3vd6bZ",
        "outputId": "2655963e-1b01-40af-a36f-97c3ddb4c04d",
        "colab": {
          "base_uri": "https://localhost:8080/",
          "height": 236
        }
      },
      "source": [
        "import torch\n",
        "import numpy as np\n",
        "from torch import optim\n",
        "\n",
        "class SGD:\n",
        "    def __init__(self, lr = 0.01,x=100): #lr = 学習率 \n",
        "        self.lr = 0.01\n",
        "        self.x =100.0\n",
        "\n",
        "    def update(self,x):\n",
        "        x = -self.lr * 2*x \n",
        "        return x\n",
        "\n",
        "max_iterations = 100\n",
        "\n",
        "\n",
        "y7=[]\n",
        "y8=[]\n",
        "y9=[]\n",
        "\n",
        "v7=[]\n",
        "v8=[]\n",
        "v9=[]\n",
        "optimizer = optim.SGD()\n",
        "\n",
        "x = 100\n",
        "optimizer.lr =0.1\n",
        "for i in range(max_iterations):\n",
        "    x = optimizer.update(x)\n",
        "    y7.append(x)\n",
        "    v7.append(optimizer.lr)\n",
        "\n",
        "x = 100\n",
        "optimizer.lr =0.01\n",
        "for i in range(max_iterations):\n",
        "    x = optimizer.update(x)\n",
        "    y8.append(x)\n",
        "    v8.append(optimizer.lr)\n",
        "\n",
        "x = 100\n",
        "optimizer.lr =0.9\n",
        "for i in range(max_iterations):\n",
        "    x = optimizer.update(x)\n",
        "    y9.append(x)\n",
        "    v9.append(optimizer.lr)\n",
        "\n",
        "x = np.arange(max_iterations)\n",
        "plt.plot(x, y7, label='lr=0.1')\n",
        "plt.plot(x, y8, label='lr=0.01')\n",
        "plt.plot(x, y9, label='lr=0.9')\n",
        "plt.xlabel(\"iterations\")\n",
        "plt.ylabel(\"y\")\n",
        "plt.ylim(-5, 120)\n",
        "plt.legend()\n",
        "plt.show()"
      ],
      "execution_count": 11,
      "outputs": [
        {
          "output_type": "error",
          "ename": "TypeError",
          "evalue": "ignored",
          "traceback": [
            "\u001b[0;31m---------------------------------------------------------------------------\u001b[0m",
            "\u001b[0;31mTypeError\u001b[0m                                 Traceback (most recent call last)",
            "\u001b[0;32m<ipython-input-11-2c444a5a83ed>\u001b[0m in \u001b[0;36m<module>\u001b[0;34m()\u001b[0m\n\u001b[1;32m     22\u001b[0m \u001b[0mv8\u001b[0m\u001b[0;34m=\u001b[0m\u001b[0;34m[\u001b[0m\u001b[0;34m]\u001b[0m\u001b[0;34m\u001b[0m\u001b[0;34m\u001b[0m\u001b[0m\n\u001b[1;32m     23\u001b[0m \u001b[0mv9\u001b[0m\u001b[0;34m=\u001b[0m\u001b[0;34m[\u001b[0m\u001b[0;34m]\u001b[0m\u001b[0;34m\u001b[0m\u001b[0;34m\u001b[0m\u001b[0m\n\u001b[0;32m---> 24\u001b[0;31m \u001b[0moptimizer\u001b[0m \u001b[0;34m=\u001b[0m \u001b[0moptim\u001b[0m\u001b[0;34m.\u001b[0m\u001b[0mSGD\u001b[0m\u001b[0;34m(\u001b[0m\u001b[0;34m)\u001b[0m\u001b[0;34m\u001b[0m\u001b[0;34m\u001b[0m\u001b[0m\n\u001b[0m\u001b[1;32m     25\u001b[0m \u001b[0;34m\u001b[0m\u001b[0m\n\u001b[1;32m     26\u001b[0m \u001b[0mx\u001b[0m \u001b[0;34m=\u001b[0m \u001b[0;36m100\u001b[0m\u001b[0;34m\u001b[0m\u001b[0;34m\u001b[0m\u001b[0m\n",
            "\u001b[0;31mTypeError\u001b[0m: __init__() missing 1 required positional argument: 'params'"
          ]
        }
      ]
    }
  ]
}